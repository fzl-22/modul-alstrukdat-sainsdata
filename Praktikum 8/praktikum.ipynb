{
 "cells": [
  {
   "cell_type": "code",
   "execution_count": 1,
   "metadata": {},
   "outputs": [],
   "source": [
    "class Queue:\n",
    "  def __init__(self):\n",
    "    self.items = []\n",
    "    \n",
    "  def is_empty(self):\n",
    "    return self.items == []\n",
    "  \n",
    "  def enqueue(self, item):\n",
    "    self.items.append(item)\n",
    "  \n",
    "  def dequeue(self):\n",
    "    if not self.is_empty():\n",
    "      return self.items.pop(0)\n",
    "  \n",
    "  def size(self):\n",
    "    return len(self.items)\n",
    "  \n",
    "  def peek(self):\n",
    "    return self.items[0]"
   ]
  },
  {
   "cell_type": "code",
   "execution_count": 9,
   "metadata": {},
   "outputs": [
    {
     "name": "stdout",
     "output_type": "stream",
     "text": [
      "True\n",
      "a\n",
      "3\n",
      "a\n",
      "b\n",
      "c\n",
      "None\n",
      "True\n"
     ]
    }
   ],
   "source": [
    "q = Queue()\n",
    "print(q.is_empty())  # output: True\n",
    "\n",
    "q.enqueue('a')\n",
    "q.enqueue('b')\n",
    "q.enqueue('c')\n",
    "print(q.peek()) # output:a\n",
    "print(q.size())  # output: 3\n",
    "\n",
    "print(q.dequeue())  # output: a\n",
    "print(q.dequeue())  # output: b\n",
    "print(q.dequeue())  # output: c\n",
    "print(q.dequeue())  # output: None\n",
    "\n",
    "print(q.is_empty())  # output: True"
   ]
  }
 ],
 "metadata": {
  "kernelspec": {
   "display_name": "sainsdata",
   "language": "python",
   "name": "python3"
  },
  "language_info": {
   "codemirror_mode": {
    "name": "ipython",
    "version": 3
   },
   "file_extension": ".py",
   "mimetype": "text/x-python",
   "name": "python",
   "nbconvert_exporter": "python",
   "pygments_lexer": "ipython3",
   "version": "3.11.2"
  },
  "orig_nbformat": 4
 },
 "nbformat": 4,
 "nbformat_minor": 2
}
